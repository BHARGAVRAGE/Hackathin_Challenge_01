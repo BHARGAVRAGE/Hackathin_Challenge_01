{
 "cells": [
  {
   "cell_type": "markdown",
   "metadata": {},
   "source": [
    "#                                                 Flipr Hackathon Solution"
   ]
  },
  {
   "cell_type": "code",
   "execution_count": 1,
   "metadata": {},
   "outputs": [],
   "source": [
    "#Importing required libraries\n",
    "import numpy as np\n",
    "import pandas as pd\n",
    "import seaborn as sns\n",
    "import matplotlib.pyplot as plt"
   ]
  },
  {
   "cell_type": "code",
   "execution_count": 2,
   "metadata": {},
   "outputs": [],
   "source": [
    "%matplotlib inline"
   ]
  },
  {
   "cell_type": "code",
   "execution_count": 3,
   "metadata": {},
   "outputs": [],
   "source": [
    "from sklearn import metrics"
   ]
  },
  {
   "cell_type": "code",
   "execution_count": 4,
   "metadata": {},
   "outputs": [],
   "source": [
    "#Reading dataset using Pandas\n",
    "train = pd.read_excel('Train_dataset.xlsx')"
   ]
  },
  {
   "cell_type": "code",
   "execution_count": 5,
   "metadata": {},
   "outputs": [
    {
     "data": {
      "text/html": [
       "<div>\n",
       "<style scoped>\n",
       "    .dataframe tbody tr th:only-of-type {\n",
       "        vertical-align: middle;\n",
       "    }\n",
       "\n",
       "    .dataframe tbody tr th {\n",
       "        vertical-align: top;\n",
       "    }\n",
       "\n",
       "    .dataframe thead th {\n",
       "        text-align: right;\n",
       "    }\n",
       "</style>\n",
       "<table border=\"1\" class=\"dataframe\">\n",
       "  <thead>\n",
       "    <tr style=\"text-align: right;\">\n",
       "      <th></th>\n",
       "      <th>people_ID</th>\n",
       "      <th>Region</th>\n",
       "      <th>Gender</th>\n",
       "      <th>Designation</th>\n",
       "      <th>Name</th>\n",
       "      <th>Married</th>\n",
       "      <th>Children</th>\n",
       "      <th>Occupation</th>\n",
       "      <th>Mode_transport</th>\n",
       "      <th>cases/1M</th>\n",
       "      <th>...</th>\n",
       "      <th>HBB</th>\n",
       "      <th>d-dimer</th>\n",
       "      <th>Heart rate</th>\n",
       "      <th>HDL cholesterol</th>\n",
       "      <th>Charlson Index</th>\n",
       "      <th>Blood Glucose</th>\n",
       "      <th>Insurance</th>\n",
       "      <th>salary</th>\n",
       "      <th>FT/month</th>\n",
       "      <th>Infect_Prob</th>\n",
       "    </tr>\n",
       "  </thead>\n",
       "  <tbody>\n",
       "    <tr>\n",
       "      <td>0</td>\n",
       "      <td>1</td>\n",
       "      <td>Bhubaneshwar</td>\n",
       "      <td>Female</td>\n",
       "      <td>Mrs</td>\n",
       "      <td>mansi</td>\n",
       "      <td>YES</td>\n",
       "      <td>1.0</td>\n",
       "      <td>Farmer</td>\n",
       "      <td>Public</td>\n",
       "      <td>2</td>\n",
       "      <td>...</td>\n",
       "      <td>93.0</td>\n",
       "      <td>233.0</td>\n",
       "      <td>82.0</td>\n",
       "      <td>58.0</td>\n",
       "      <td>27</td>\n",
       "      <td>7</td>\n",
       "      <td>3600000.0</td>\n",
       "      <td>1300000</td>\n",
       "      <td>2.0</td>\n",
       "      <td>49.135010</td>\n",
       "    </tr>\n",
       "    <tr>\n",
       "      <td>1</td>\n",
       "      <td>2</td>\n",
       "      <td>Bhubaneshwar</td>\n",
       "      <td>Female</td>\n",
       "      <td>Mrs</td>\n",
       "      <td>riya masi</td>\n",
       "      <td>YES</td>\n",
       "      <td>2.0</td>\n",
       "      <td>Farmer</td>\n",
       "      <td>Walk</td>\n",
       "      <td>2</td>\n",
       "      <td>...</td>\n",
       "      <td>56.0</td>\n",
       "      <td>328.0</td>\n",
       "      <td>89.0</td>\n",
       "      <td>68.0</td>\n",
       "      <td>5</td>\n",
       "      <td>6</td>\n",
       "      <td>1600000.0</td>\n",
       "      <td>400000</td>\n",
       "      <td>1.0</td>\n",
       "      <td>51.147880</td>\n",
       "    </tr>\n",
       "    <tr>\n",
       "      <td>2</td>\n",
       "      <td>3</td>\n",
       "      <td>Bhubaneshwar</td>\n",
       "      <td>Female</td>\n",
       "      <td>Mrs</td>\n",
       "      <td>sunita</td>\n",
       "      <td>NO</td>\n",
       "      <td>1.0</td>\n",
       "      <td>Cleaner</td>\n",
       "      <td>Public</td>\n",
       "      <td>2</td>\n",
       "      <td>...</td>\n",
       "      <td>137.0</td>\n",
       "      <td>213.0</td>\n",
       "      <td>77.0</td>\n",
       "      <td>43.0</td>\n",
       "      <td>40</td>\n",
       "      <td>6</td>\n",
       "      <td>3400000.0</td>\n",
       "      <td>900000</td>\n",
       "      <td>1.0</td>\n",
       "      <td>73.224000</td>\n",
       "    </tr>\n",
       "    <tr>\n",
       "      <td>3</td>\n",
       "      <td>4</td>\n",
       "      <td>Bhubaneshwar</td>\n",
       "      <td>Female</td>\n",
       "      <td>Mrs</td>\n",
       "      <td>anjali @ babli</td>\n",
       "      <td>YES</td>\n",
       "      <td>1.0</td>\n",
       "      <td>Driver</td>\n",
       "      <td>Car</td>\n",
       "      <td>2</td>\n",
       "      <td>...</td>\n",
       "      <td>167.0</td>\n",
       "      <td>275.0</td>\n",
       "      <td>64.0</td>\n",
       "      <td>60.0</td>\n",
       "      <td>27</td>\n",
       "      <td>7</td>\n",
       "      <td>700000.0</td>\n",
       "      <td>2300000</td>\n",
       "      <td>1.0</td>\n",
       "      <td>48.779225</td>\n",
       "    </tr>\n",
       "    <tr>\n",
       "      <td>4</td>\n",
       "      <td>5</td>\n",
       "      <td>Bhubaneshwar</td>\n",
       "      <td>Female</td>\n",
       "      <td>Mrs</td>\n",
       "      <td>champa karketta</td>\n",
       "      <td>NO</td>\n",
       "      <td>2.0</td>\n",
       "      <td>Manufacturing</td>\n",
       "      <td>Car</td>\n",
       "      <td>2</td>\n",
       "      <td>...</td>\n",
       "      <td>153.0</td>\n",
       "      <td>331.0</td>\n",
       "      <td>71.0</td>\n",
       "      <td>64.0</td>\n",
       "      <td>32</td>\n",
       "      <td>7</td>\n",
       "      <td>3200000.0</td>\n",
       "      <td>1100000</td>\n",
       "      <td>1.0</td>\n",
       "      <td>87.868800</td>\n",
       "    </tr>\n",
       "  </tbody>\n",
       "</table>\n",
       "<p>5 rows × 28 columns</p>\n",
       "</div>"
      ],
      "text/plain": [
       "   people_ID        Region  Gender Designation             Name Married  \\\n",
       "0          1  Bhubaneshwar  Female         Mrs            mansi     YES   \n",
       "1          2  Bhubaneshwar  Female         Mrs        riya masi     YES   \n",
       "2          3  Bhubaneshwar  Female         Mrs           sunita      NO   \n",
       "3          4  Bhubaneshwar  Female         Mrs   anjali @ babli     YES   \n",
       "4          5  Bhubaneshwar  Female         Mrs  champa karketta      NO   \n",
       "\n",
       "   Children     Occupation Mode_transport  cases/1M  ...    HBB d-dimer  \\\n",
       "0       1.0         Farmer         Public         2  ...   93.0   233.0   \n",
       "1       2.0         Farmer           Walk         2  ...   56.0   328.0   \n",
       "2       1.0        Cleaner         Public         2  ...  137.0   213.0   \n",
       "3       1.0         Driver            Car         2  ...  167.0   275.0   \n",
       "4       2.0  Manufacturing            Car         2  ...  153.0   331.0   \n",
       "\n",
       "   Heart rate  HDL cholesterol Charlson Index Blood Glucose  Insurance  \\\n",
       "0        82.0             58.0             27             7  3600000.0   \n",
       "1        89.0             68.0              5             6  1600000.0   \n",
       "2        77.0             43.0             40             6  3400000.0   \n",
       "3        64.0             60.0             27             7   700000.0   \n",
       "4        71.0             64.0             32             7  3200000.0   \n",
       "\n",
       "    salary  FT/month  Infect_Prob  \n",
       "0  1300000       2.0    49.135010  \n",
       "1   400000       1.0    51.147880  \n",
       "2   900000       1.0    73.224000  \n",
       "3  2300000       1.0    48.779225  \n",
       "4  1100000       1.0    87.868800  \n",
       "\n",
       "[5 rows x 28 columns]"
      ]
     },
     "execution_count": 5,
     "metadata": {},
     "output_type": "execute_result"
    }
   ],
   "source": [
    "train.head()"
   ]
  },
  {
   "cell_type": "code",
   "execution_count": 6,
   "metadata": {},
   "outputs": [
    {
     "data": {
      "text/plain": [
       "(10714, 28)"
      ]
     },
     "execution_count": 6,
     "metadata": {},
     "output_type": "execute_result"
    }
   ],
   "source": [
    "train.shape"
   ]
  },
  {
   "cell_type": "code",
   "execution_count": 7,
   "metadata": {},
   "outputs": [
    {
     "data": {
      "text/plain": [
       "Index(['people_ID', 'Region', 'Gender', 'Designation', 'Name', 'Married',\n",
       "       'Children', 'Occupation', 'Mode_transport', 'cases/1M', 'Deaths/1M',\n",
       "       'comorbidity', 'Age', 'Coma score', 'Pulmonary score',\n",
       "       'cardiological pressure', 'Diuresis', 'Platelets', 'HBB', 'd-dimer',\n",
       "       'Heart rate', 'HDL cholesterol', 'Charlson Index', 'Blood Glucose',\n",
       "       'Insurance', 'salary', 'FT/month', 'Infect_Prob'],\n",
       "      dtype='object')"
      ]
     },
     "execution_count": 7,
     "metadata": {},
     "output_type": "execute_result"
    }
   ],
   "source": [
    "train.columns"
   ]
  },
  {
   "cell_type": "code",
   "execution_count": 8,
   "metadata": {},
   "outputs": [
    {
     "data": {
      "text/html": [
       "<div>\n",
       "<style scoped>\n",
       "    .dataframe tbody tr th:only-of-type {\n",
       "        vertical-align: middle;\n",
       "    }\n",
       "\n",
       "    .dataframe tbody tr th {\n",
       "        vertical-align: top;\n",
       "    }\n",
       "\n",
       "    .dataframe thead th {\n",
       "        text-align: right;\n",
       "    }\n",
       "</style>\n",
       "<table border=\"1\" class=\"dataframe\">\n",
       "  <thead>\n",
       "    <tr style=\"text-align: right;\">\n",
       "      <th></th>\n",
       "      <th>cases/1M</th>\n",
       "      <th>Deaths/1M</th>\n",
       "      <th>comorbidity</th>\n",
       "      <th>Age</th>\n",
       "      <th>Coma score</th>\n",
       "      <th>Pulmonary score</th>\n",
       "      <th>cardiological pressure</th>\n",
       "      <th>Diuresis</th>\n",
       "      <th>Platelets</th>\n",
       "    </tr>\n",
       "  </thead>\n",
       "  <tbody>\n",
       "    <tr>\n",
       "      <td>0</td>\n",
       "      <td>2</td>\n",
       "      <td>0</td>\n",
       "      <td>Hypertension</td>\n",
       "      <td>68</td>\n",
       "      <td>8</td>\n",
       "      <td>&lt;400</td>\n",
       "      <td>Normal</td>\n",
       "      <td>441.0</td>\n",
       "      <td>154.0</td>\n",
       "    </tr>\n",
       "    <tr>\n",
       "      <td>1</td>\n",
       "      <td>2</td>\n",
       "      <td>0</td>\n",
       "      <td>Diabetes</td>\n",
       "      <td>64</td>\n",
       "      <td>15</td>\n",
       "      <td>&lt;100</td>\n",
       "      <td>Stage-02</td>\n",
       "      <td>NaN</td>\n",
       "      <td>121.0</td>\n",
       "    </tr>\n",
       "    <tr>\n",
       "      <td>2</td>\n",
       "      <td>2</td>\n",
       "      <td>0</td>\n",
       "      <td>None</td>\n",
       "      <td>19</td>\n",
       "      <td>13</td>\n",
       "      <td>&lt;300</td>\n",
       "      <td>Elevated</td>\n",
       "      <td>416.0</td>\n",
       "      <td>124.0</td>\n",
       "    </tr>\n",
       "    <tr>\n",
       "      <td>3</td>\n",
       "      <td>2</td>\n",
       "      <td>0</td>\n",
       "      <td>Coronary Heart Disease</td>\n",
       "      <td>33</td>\n",
       "      <td>9</td>\n",
       "      <td>&lt;200</td>\n",
       "      <td>Stage-01</td>\n",
       "      <td>410.0</td>\n",
       "      <td>98.0</td>\n",
       "    </tr>\n",
       "    <tr>\n",
       "      <td>4</td>\n",
       "      <td>2</td>\n",
       "      <td>0</td>\n",
       "      <td>Diabetes</td>\n",
       "      <td>23</td>\n",
       "      <td>7</td>\n",
       "      <td>&lt;400</td>\n",
       "      <td>Normal</td>\n",
       "      <td>390.0</td>\n",
       "      <td>21.0</td>\n",
       "    </tr>\n",
       "    <tr>\n",
       "      <td>...</td>\n",
       "      <td>...</td>\n",
       "      <td>...</td>\n",
       "      <td>...</td>\n",
       "      <td>...</td>\n",
       "      <td>...</td>\n",
       "      <td>...</td>\n",
       "      <td>...</td>\n",
       "      <td>...</td>\n",
       "      <td>...</td>\n",
       "    </tr>\n",
       "    <tr>\n",
       "      <td>10709</td>\n",
       "      <td>8</td>\n",
       "      <td>2</td>\n",
       "      <td>Diabetes</td>\n",
       "      <td>20</td>\n",
       "      <td>14</td>\n",
       "      <td>&lt;400</td>\n",
       "      <td>Normal</td>\n",
       "      <td>134.0</td>\n",
       "      <td>67.0</td>\n",
       "    </tr>\n",
       "    <tr>\n",
       "      <td>10710</td>\n",
       "      <td>8</td>\n",
       "      <td>2</td>\n",
       "      <td>None</td>\n",
       "      <td>42</td>\n",
       "      <td>4</td>\n",
       "      <td>&lt;400</td>\n",
       "      <td>Normal</td>\n",
       "      <td>387.0</td>\n",
       "      <td>102.0</td>\n",
       "    </tr>\n",
       "    <tr>\n",
       "      <td>10711</td>\n",
       "      <td>8</td>\n",
       "      <td>2</td>\n",
       "      <td>Diabetes</td>\n",
       "      <td>59</td>\n",
       "      <td>3</td>\n",
       "      <td>&lt;100</td>\n",
       "      <td>Stage-02</td>\n",
       "      <td>177.0</td>\n",
       "      <td>111.0</td>\n",
       "    </tr>\n",
       "    <tr>\n",
       "      <td>10712</td>\n",
       "      <td>8</td>\n",
       "      <td>2</td>\n",
       "      <td>Coronary Heart Disease</td>\n",
       "      <td>49</td>\n",
       "      <td>6</td>\n",
       "      <td>&lt;300</td>\n",
       "      <td>Elevated</td>\n",
       "      <td>352.0</td>\n",
       "      <td>140.0</td>\n",
       "    </tr>\n",
       "    <tr>\n",
       "      <td>10713</td>\n",
       "      <td>8</td>\n",
       "      <td>2</td>\n",
       "      <td>Diabetes</td>\n",
       "      <td>17</td>\n",
       "      <td>7</td>\n",
       "      <td>&lt;400</td>\n",
       "      <td>Normal</td>\n",
       "      <td>181.0</td>\n",
       "      <td>65.0</td>\n",
       "    </tr>\n",
       "  </tbody>\n",
       "</table>\n",
       "<p>10714 rows × 9 columns</p>\n",
       "</div>"
      ],
      "text/plain": [
       "       cases/1M  Deaths/1M             comorbidity  Age  Coma score  \\\n",
       "0             2          0            Hypertension   68           8   \n",
       "1             2          0                Diabetes   64          15   \n",
       "2             2          0                    None   19          13   \n",
       "3             2          0  Coronary Heart Disease   33           9   \n",
       "4             2          0                Diabetes   23           7   \n",
       "...         ...        ...                     ...  ...         ...   \n",
       "10709         8          2                Diabetes   20          14   \n",
       "10710         8          2                    None   42           4   \n",
       "10711         8          2                Diabetes   59           3   \n",
       "10712         8          2  Coronary Heart Disease   49           6   \n",
       "10713         8          2                Diabetes   17           7   \n",
       "\n",
       "      Pulmonary score cardiological pressure  Diuresis  Platelets  \n",
       "0                <400                 Normal     441.0      154.0  \n",
       "1                <100               Stage-02       NaN      121.0  \n",
       "2                <300               Elevated     416.0      124.0  \n",
       "3                <200               Stage-01     410.0       98.0  \n",
       "4                <400                 Normal     390.0       21.0  \n",
       "...               ...                    ...       ...        ...  \n",
       "10709            <400                 Normal     134.0       67.0  \n",
       "10710            <400                 Normal     387.0      102.0  \n",
       "10711            <100               Stage-02     177.0      111.0  \n",
       "10712            <300               Elevated     352.0      140.0  \n",
       "10713            <400                 Normal     181.0       65.0  \n",
       "\n",
       "[10714 rows x 9 columns]"
      ]
     },
     "execution_count": 8,
     "metadata": {},
     "output_type": "execute_result"
    }
   ],
   "source": [
    "train[['cases/1M', 'Deaths/1M',\n",
    "       'comorbidity', 'Age', 'Coma score', 'Pulmonary score',\n",
    "       'cardiological pressure', 'Diuresis', 'Platelets']]"
   ]
  },
  {
   "cell_type": "markdown",
   "metadata": {},
   "source": [
    "As parameters like people_ID,Name,Designation are not necessary parameters to calcuate Infect_Probabilities, the following cell drops those columns from the dataset."
   ]
  },
  {
   "cell_type": "code",
   "execution_count": 9,
   "metadata": {},
   "outputs": [],
   "source": [
    "train.drop(columns=['people_ID','Name','Designation'],inplace=True)"
   ]
  },
  {
   "cell_type": "code",
   "execution_count": 10,
   "metadata": {},
   "outputs": [],
   "source": [
    "#Replacing categorial Married column with numerical values\n",
    "train['Married'].replace(to_replace=['YES','NO'],value=[1,0],inplace=True)"
   ]
  },
  {
   "cell_type": "code",
   "execution_count": 11,
   "metadata": {
    "scrolled": true
   },
   "outputs": [
    {
     "data": {
      "text/plain": [
       "Married           -0.465114\n",
       "Children           0.226795\n",
       "cases/1M           0.172871\n",
       "Deaths/1M          0.174994\n",
       "Age               -0.331258\n",
       "Coma score         0.038400\n",
       "Diuresis           0.006887\n",
       "Platelets          0.066727\n",
       "HBB                0.019361\n",
       "d-dimer            0.021304\n",
       "Heart rate        -0.003647\n",
       "HDL cholesterol    0.013288\n",
       "Charlson Index    -0.011368\n",
       "Blood Glucose     -0.009654\n",
       "Insurance          0.009996\n",
       "salary            -0.024621\n",
       "FT/month          -0.001474\n",
       "Infect_Prob        1.000000\n",
       "Name: Infect_Prob, dtype: float64"
      ]
     },
     "execution_count": 11,
     "metadata": {},
     "output_type": "execute_result"
    }
   ],
   "source": [
    "#Trying to find out which parameters influence Infect_Prob values using correlation function for numerical columns\n",
    "train.corr()['Infect_Prob']"
   ]
  },
  {
   "cell_type": "markdown",
   "metadata": {},
   "source": [
    "From the above correlation values, the following parameters influence Infect_Prob:\n",
    "- Married Status\n",
    "- No of Children\n",
    "- Age\n",
    "- cases/1M\n",
    "- deaths/1M\n",
    "\n",
    "But for our model, we will remove the last two parameters and include 3 more parameters:\n",
    "- Coma Score\n",
    "- Salary\n",
    "- Platelet Count\n",
    "\n",
    "which somewhat influence the values of Infect_Prob."
   ]
  },
  {
   "cell_type": "code",
   "execution_count": 12,
   "metadata": {},
   "outputs": [],
   "source": [
    "#Dropping records with null values in them.\n",
    "train.dropna(inplace=True)"
   ]
  },
  {
   "cell_type": "code",
   "execution_count": 13,
   "metadata": {},
   "outputs": [],
   "source": [
    "df = pd.DataFrame(train.corr()['Infect_Prob'])"
   ]
  },
  {
   "cell_type": "code",
   "execution_count": 14,
   "metadata": {},
   "outputs": [],
   "source": [
    "reqd_param = df[(abs(df['Infect_Prob'])>=0.03) & (df['Infect_Prob']!=1)].index"
   ]
  },
  {
   "cell_type": "code",
   "execution_count": 15,
   "metadata": {},
   "outputs": [],
   "source": [
    "reqd_param = list(reqd_param)"
   ]
  },
  {
   "cell_type": "code",
   "execution_count": 16,
   "metadata": {},
   "outputs": [
    {
     "data": {
      "text/plain": [
       "['Married',\n",
       " 'Children',\n",
       " 'cases/1M',\n",
       " 'Deaths/1M',\n",
       " 'Age',\n",
       " 'Coma score',\n",
       " 'Platelets',\n",
       " 'salary']"
      ]
     },
     "execution_count": 16,
     "metadata": {},
     "output_type": "execute_result"
    }
   ],
   "source": [
    "reqd_param"
   ]
  },
  {
   "cell_type": "code",
   "execution_count": 17,
   "metadata": {},
   "outputs": [],
   "source": [
    "reqd_param.remove('cases/1M')\n",
    "reqd_param.remove('Deaths/1M')"
   ]
  },
  {
   "cell_type": "code",
   "execution_count": 18,
   "metadata": {},
   "outputs": [],
   "source": [
    "#Trying to apply Multiple Linear Regression since Infect_Prob is a continuous value, hence Regression Algorithm\n",
    "from sklearn.linear_model import LinearRegression\n",
    "reg = LinearRegression()"
   ]
  },
  {
   "cell_type": "code",
   "execution_count": 19,
   "metadata": {},
   "outputs": [],
   "source": [
    "X = train[reqd_param]\n",
    "y = train['Infect_Prob']"
   ]
  },
  {
   "cell_type": "code",
   "execution_count": 20,
   "metadata": {},
   "outputs": [
    {
     "data": {
      "text/html": [
       "<div>\n",
       "<style scoped>\n",
       "    .dataframe tbody tr th:only-of-type {\n",
       "        vertical-align: middle;\n",
       "    }\n",
       "\n",
       "    .dataframe tbody tr th {\n",
       "        vertical-align: top;\n",
       "    }\n",
       "\n",
       "    .dataframe thead th {\n",
       "        text-align: right;\n",
       "    }\n",
       "</style>\n",
       "<table border=\"1\" class=\"dataframe\">\n",
       "  <thead>\n",
       "    <tr style=\"text-align: right;\">\n",
       "      <th></th>\n",
       "      <th>Married</th>\n",
       "      <th>Children</th>\n",
       "      <th>Age</th>\n",
       "      <th>Coma score</th>\n",
       "      <th>Platelets</th>\n",
       "      <th>salary</th>\n",
       "    </tr>\n",
       "  </thead>\n",
       "  <tbody>\n",
       "    <tr>\n",
       "      <td>0</td>\n",
       "      <td>1</td>\n",
       "      <td>1.0</td>\n",
       "      <td>68</td>\n",
       "      <td>8</td>\n",
       "      <td>154.0</td>\n",
       "      <td>1300000</td>\n",
       "    </tr>\n",
       "    <tr>\n",
       "      <td>2</td>\n",
       "      <td>0</td>\n",
       "      <td>1.0</td>\n",
       "      <td>19</td>\n",
       "      <td>13</td>\n",
       "      <td>124.0</td>\n",
       "      <td>900000</td>\n",
       "    </tr>\n",
       "    <tr>\n",
       "      <td>3</td>\n",
       "      <td>1</td>\n",
       "      <td>1.0</td>\n",
       "      <td>33</td>\n",
       "      <td>9</td>\n",
       "      <td>98.0</td>\n",
       "      <td>2300000</td>\n",
       "    </tr>\n",
       "    <tr>\n",
       "      <td>4</td>\n",
       "      <td>0</td>\n",
       "      <td>2.0</td>\n",
       "      <td>23</td>\n",
       "      <td>7</td>\n",
       "      <td>21.0</td>\n",
       "      <td>1100000</td>\n",
       "    </tr>\n",
       "    <tr>\n",
       "      <td>5</td>\n",
       "      <td>1</td>\n",
       "      <td>1.0</td>\n",
       "      <td>35</td>\n",
       "      <td>9</td>\n",
       "      <td>139.0</td>\n",
       "      <td>1900000</td>\n",
       "    </tr>\n",
       "    <tr>\n",
       "      <td>7</td>\n",
       "      <td>1</td>\n",
       "      <td>1.0</td>\n",
       "      <td>49</td>\n",
       "      <td>10</td>\n",
       "      <td>123.0</td>\n",
       "      <td>1200000</td>\n",
       "    </tr>\n",
       "    <tr>\n",
       "      <td>9</td>\n",
       "      <td>1</td>\n",
       "      <td>1.0</td>\n",
       "      <td>41</td>\n",
       "      <td>14</td>\n",
       "      <td>23.0</td>\n",
       "      <td>1400000</td>\n",
       "    </tr>\n",
       "    <tr>\n",
       "      <td>10</td>\n",
       "      <td>1</td>\n",
       "      <td>1.0</td>\n",
       "      <td>43</td>\n",
       "      <td>9</td>\n",
       "      <td>32.0</td>\n",
       "      <td>1100000</td>\n",
       "    </tr>\n",
       "    <tr>\n",
       "      <td>11</td>\n",
       "      <td>1</td>\n",
       "      <td>0.0</td>\n",
       "      <td>52</td>\n",
       "      <td>5</td>\n",
       "      <td>30.0</td>\n",
       "      <td>300000</td>\n",
       "    </tr>\n",
       "    <tr>\n",
       "      <td>13</td>\n",
       "      <td>1</td>\n",
       "      <td>2.0</td>\n",
       "      <td>52</td>\n",
       "      <td>14</td>\n",
       "      <td>17.0</td>\n",
       "      <td>2200000</td>\n",
       "    </tr>\n",
       "  </tbody>\n",
       "</table>\n",
       "</div>"
      ],
      "text/plain": [
       "    Married  Children  Age  Coma score  Platelets   salary\n",
       "0         1       1.0   68           8      154.0  1300000\n",
       "2         0       1.0   19          13      124.0   900000\n",
       "3         1       1.0   33           9       98.0  2300000\n",
       "4         0       2.0   23           7       21.0  1100000\n",
       "5         1       1.0   35           9      139.0  1900000\n",
       "7         1       1.0   49          10      123.0  1200000\n",
       "9         1       1.0   41          14       23.0  1400000\n",
       "10        1       1.0   43           9       32.0  1100000\n",
       "11        1       0.0   52           5       30.0   300000\n",
       "13        1       2.0   52          14       17.0  2200000"
      ]
     },
     "execution_count": 20,
     "metadata": {},
     "output_type": "execute_result"
    }
   ],
   "source": [
    "X.head(10)"
   ]
  },
  {
   "cell_type": "code",
   "execution_count": 21,
   "metadata": {},
   "outputs": [
    {
     "data": {
      "text/plain": [
       "0     49.135010\n",
       "2     73.224000\n",
       "3     48.779225\n",
       "4     87.868800\n",
       "5     49.518345\n",
       "7     49.121025\n",
       "9     48.475097\n",
       "10    46.970339\n",
       "11    45.494822\n",
       "13    48.948107\n",
       "Name: Infect_Prob, dtype: float64"
      ]
     },
     "execution_count": 21,
     "metadata": {},
     "output_type": "execute_result"
    }
   ],
   "source": [
    "y.head(10)"
   ]
  },
  {
   "cell_type": "code",
   "execution_count": 22,
   "metadata": {},
   "outputs": [],
   "source": [
    "# Splitting the ML model into training and testing sets with 10% of the data assigned to testing dataset\n",
    "from sklearn.model_selection import train_test_split\n",
    "X_train,X_test,y_train,y_test = train_test_split(X,y,test_size=0.1)"
   ]
  },
  {
   "cell_type": "code",
   "execution_count": 23,
   "metadata": {},
   "outputs": [
    {
     "name": "stdout",
     "output_type": "stream",
     "text": [
      "X_train set dimension:(6111, 6)\n",
      "y_train set dimension:(6111,)\n",
      "X_test set dimension:(680, 6)\n",
      "y_test set dimension:(680,)\n"
     ]
    }
   ],
   "source": [
    "print(\"X_train set dimension:{}\".format(X_train.shape))\n",
    "print(\"y_train set dimension:{}\".format(y_train.shape))\n",
    "print(\"X_test set dimension:{}\".format(X_test.shape))\n",
    "print(\"y_test set dimension:{}\".format(y_test.shape))"
   ]
  },
  {
   "cell_type": "code",
   "execution_count": 24,
   "metadata": {},
   "outputs": [
    {
     "data": {
      "text/plain": [
       "LinearRegression(copy_X=True, fit_intercept=True, n_jobs=None, normalize=False)"
      ]
     },
     "execution_count": 24,
     "metadata": {},
     "output_type": "execute_result"
    }
   ],
   "source": [
    "reg.fit(X_train,y_train)"
   ]
  },
  {
   "cell_type": "code",
   "execution_count": 25,
   "metadata": {
    "scrolled": true
   },
   "outputs": [
    {
     "name": "stdout",
     "output_type": "stream",
     "text": [
      "[-1.09632701e+01  1.92393370e+00 -2.47987043e-02  1.46632281e-01\n",
      "  1.74491571e-02 -6.41527044e-07]\n"
     ]
    }
   ],
   "source": [
    "print(reg.coef_)"
   ]
  },
  {
   "cell_type": "code",
   "execution_count": 26,
   "metadata": {},
   "outputs": [
    {
     "name": "stdout",
     "output_type": "stream",
     "text": [
      "Infect_Prob = (-10.96327006719004)*(Married or Not) + (1.923933703873164)*(No.of Children) + (-0.024798704315948515)*(Age) + (0.14663228102830123)*(Coma Score) + (0.017449157072205786)*(Platelet Count) + (-6.415270444898437e-07)*(Salary)\n"
     ]
    }
   ],
   "source": [
    "#The relation between the parameters and the Infect_Prob value according to the model\n",
    "print(\"Infect_Prob = ({})*(Married or Not) + ({})*(No.of Children) + ({})*(Age) + ({})*(Coma Score) + ({})*(Platelet Count) + ({})*(Salary)\".format(reg.coef_[0],reg.coef_[1],reg.coef_[2],reg.coef_[3],reg.coef_[4],reg.coef_[5])) "
   ]
  },
  {
   "cell_type": "code",
   "execution_count": 27,
   "metadata": {},
   "outputs": [],
   "source": [
    "y_pred = reg.predict(X_test)"
   ]
  },
  {
   "cell_type": "code",
   "execution_count": 28,
   "metadata": {},
   "outputs": [
    {
     "data": {
      "text/plain": [
       "(680,)"
      ]
     },
     "execution_count": 28,
     "metadata": {},
     "output_type": "execute_result"
    }
   ],
   "source": [
    "y_pred.shape"
   ]
  },
  {
   "cell_type": "code",
   "execution_count": 29,
   "metadata": {},
   "outputs": [],
   "source": [
    "#Calculating accuracy of the model using traditional statistics methods\n",
    "y_test = list(y_test)\n",
    "y_pred = list(y_pred)\n",
    "accu = []\n",
    "for i in range(len(y_test)):\n",
    "    acc = 100-((abs(y_test[i]-y_pred[i])/y_test[i])*100)\n",
    "    accu.append(acc)"
   ]
  },
  {
   "cell_type": "code",
   "execution_count": 30,
   "metadata": {},
   "outputs": [
    {
     "name": "stdout",
     "output_type": "stream",
     "text": [
      "Accuracy of the Model:90.13875659535394\n"
     ]
    }
   ],
   "source": [
    "#Priting mean accuracy of the model.\n",
    "import statistics\n",
    "print(\"Accuracy of the Model:\"+str(statistics.mean(accu)))"
   ]
  },
  {
   "cell_type": "code",
   "execution_count": 33,
   "metadata": {},
   "outputs": [
    {
     "data": {
      "text/plain": [
       "[46.16209515,\n",
       " 49.14719188,\n",
       " 50.98113046,\n",
       " 48.81404905,\n",
       " 52.96879593,\n",
       " 91.77408,\n",
       " 48.96265471,\n",
       " 50.58987314,\n",
       " 46.31318291,\n",
       " 48.71294823]"
      ]
     },
     "execution_count": 33,
     "metadata": {},
     "output_type": "execute_result"
    }
   ],
   "source": [
    "y_test[:10]"
   ]
  },
  {
   "cell_type": "code",
   "execution_count": 34,
   "metadata": {},
   "outputs": [
    {
     "data": {
      "text/plain": [
       "[47.177921218812784,\n",
       " 62.099305858213064,\n",
       " 53.70405894461851,\n",
       " 49.11238759418449,\n",
       " 52.4853319201207,\n",
       " 63.312735991057124,\n",
       " 49.76701405994029,\n",
       " 51.032258404358686,\n",
       " 47.36412448811653,\n",
       " 60.80446383998665]"
      ]
     },
     "execution_count": 34,
     "metadata": {},
     "output_type": "execute_result"
    }
   ],
   "source": [
    "y_pred[:10]"
   ]
  },
  {
   "cell_type": "markdown",
   "metadata": {},
   "source": [
    "Using the dataset given and training the model with 6 parameters mentioned above, we can find that our model predicts the values of Infect_Prob at an accuracy of about __90%__, which is considered to be a good model to predict the Infect_Prob values"
   ]
  },
  {
   "cell_type": "markdown",
   "metadata": {},
   "source": [
    "Now let us predict the values of Test_dataset using the above model"
   ]
  },
  {
   "cell_type": "code",
   "execution_count": 35,
   "metadata": {},
   "outputs": [],
   "source": [
    "test = pd.read_excel('Test_dataset.xlsx')"
   ]
  },
  {
   "cell_type": "code",
   "execution_count": 36,
   "metadata": {},
   "outputs": [
    {
     "data": {
      "text/html": [
       "<div>\n",
       "<style scoped>\n",
       "    .dataframe tbody tr th:only-of-type {\n",
       "        vertical-align: middle;\n",
       "    }\n",
       "\n",
       "    .dataframe tbody tr th {\n",
       "        vertical-align: top;\n",
       "    }\n",
       "\n",
       "    .dataframe thead th {\n",
       "        text-align: right;\n",
       "    }\n",
       "</style>\n",
       "<table border=\"1\" class=\"dataframe\">\n",
       "  <thead>\n",
       "    <tr style=\"text-align: right;\">\n",
       "      <th></th>\n",
       "      <th>people_ID</th>\n",
       "      <th>Region</th>\n",
       "      <th>Gender</th>\n",
       "      <th>Designation</th>\n",
       "      <th>Name</th>\n",
       "      <th>Married</th>\n",
       "      <th>Children</th>\n",
       "      <th>Occupation</th>\n",
       "      <th>Mode_transport</th>\n",
       "      <th>cases/1M</th>\n",
       "      <th>...</th>\n",
       "      <th>Platelets</th>\n",
       "      <th>HBB</th>\n",
       "      <th>d-dimer</th>\n",
       "      <th>Heart rate</th>\n",
       "      <th>HDL cholesterol</th>\n",
       "      <th>Charlson Index</th>\n",
       "      <th>Blood Glucose</th>\n",
       "      <th>Insurance</th>\n",
       "      <th>salary</th>\n",
       "      <th>FT/month</th>\n",
       "    </tr>\n",
       "  </thead>\n",
       "  <tbody>\n",
       "    <tr>\n",
       "      <td>0</td>\n",
       "      <td>5942</td>\n",
       "      <td>Delhi</td>\n",
       "      <td>Female</td>\n",
       "      <td>Mrs</td>\n",
       "      <td>smt rekha prajapat</td>\n",
       "      <td>YES</td>\n",
       "      <td>2</td>\n",
       "      <td>Driver</td>\n",
       "      <td>Public</td>\n",
       "      <td>4</td>\n",
       "      <td>...</td>\n",
       "      <td>153</td>\n",
       "      <td>196</td>\n",
       "      <td>240</td>\n",
       "      <td>85</td>\n",
       "      <td>53</td>\n",
       "      <td>17</td>\n",
       "      <td>3</td>\n",
       "      <td>3900000</td>\n",
       "      <td>1300000</td>\n",
       "      <td>1</td>\n",
       "    </tr>\n",
       "    <tr>\n",
       "      <td>1</td>\n",
       "      <td>18664</td>\n",
       "      <td>Delhi</td>\n",
       "      <td>Male</td>\n",
       "      <td>Mr</td>\n",
       "      <td>nirmal</td>\n",
       "      <td>YES</td>\n",
       "      <td>2</td>\n",
       "      <td>Legal</td>\n",
       "      <td>Walk</td>\n",
       "      <td>4</td>\n",
       "      <td>...</td>\n",
       "      <td>95</td>\n",
       "      <td>138</td>\n",
       "      <td>241</td>\n",
       "      <td>81</td>\n",
       "      <td>61</td>\n",
       "      <td>2</td>\n",
       "      <td>5</td>\n",
       "      <td>1800000</td>\n",
       "      <td>1300000</td>\n",
       "      <td>1</td>\n",
       "    </tr>\n",
       "    <tr>\n",
       "      <td>2</td>\n",
       "      <td>5603</td>\n",
       "      <td>Delhi</td>\n",
       "      <td>Female</td>\n",
       "      <td>Mrs</td>\n",
       "      <td>pinky</td>\n",
       "      <td>YES</td>\n",
       "      <td>2</td>\n",
       "      <td>Sales</td>\n",
       "      <td>Car</td>\n",
       "      <td>4</td>\n",
       "      <td>...</td>\n",
       "      <td>40</td>\n",
       "      <td>166</td>\n",
       "      <td>236</td>\n",
       "      <td>88</td>\n",
       "      <td>47</td>\n",
       "      <td>24</td>\n",
       "      <td>3</td>\n",
       "      <td>5000000</td>\n",
       "      <td>2000000</td>\n",
       "      <td>2</td>\n",
       "    </tr>\n",
       "    <tr>\n",
       "      <td>3</td>\n",
       "      <td>5649</td>\n",
       "      <td>Delhi</td>\n",
       "      <td>Female</td>\n",
       "      <td>Mrs</td>\n",
       "      <td>pooja @aafrin</td>\n",
       "      <td>YES</td>\n",
       "      <td>2</td>\n",
       "      <td>Sales</td>\n",
       "      <td>Car</td>\n",
       "      <td>4</td>\n",
       "      <td>...</td>\n",
       "      <td>78</td>\n",
       "      <td>83</td>\n",
       "      <td>211</td>\n",
       "      <td>87</td>\n",
       "      <td>52</td>\n",
       "      <td>13</td>\n",
       "      <td>6</td>\n",
       "      <td>3100000</td>\n",
       "      <td>600000</td>\n",
       "      <td>2</td>\n",
       "    </tr>\n",
       "    <tr>\n",
       "      <td>4</td>\n",
       "      <td>5099</td>\n",
       "      <td>Delhi</td>\n",
       "      <td>Female</td>\n",
       "      <td>Mrs</td>\n",
       "      <td>anjali</td>\n",
       "      <td>YES</td>\n",
       "      <td>2</td>\n",
       "      <td>Business</td>\n",
       "      <td>Car</td>\n",
       "      <td>4</td>\n",
       "      <td>...</td>\n",
       "      <td>109</td>\n",
       "      <td>207</td>\n",
       "      <td>312</td>\n",
       "      <td>94</td>\n",
       "      <td>68</td>\n",
       "      <td>39</td>\n",
       "      <td>5</td>\n",
       "      <td>2300000</td>\n",
       "      <td>1500000</td>\n",
       "      <td>1</td>\n",
       "    </tr>\n",
       "    <tr>\n",
       "      <td>5</td>\n",
       "      <td>18749</td>\n",
       "      <td>Delhi</td>\n",
       "      <td>Male</td>\n",
       "      <td>Mr</td>\n",
       "      <td>diwan chand</td>\n",
       "      <td>YES</td>\n",
       "      <td>2</td>\n",
       "      <td>Sales</td>\n",
       "      <td>Walk</td>\n",
       "      <td>4</td>\n",
       "      <td>...</td>\n",
       "      <td>35</td>\n",
       "      <td>185</td>\n",
       "      <td>291</td>\n",
       "      <td>75</td>\n",
       "      <td>61</td>\n",
       "      <td>26</td>\n",
       "      <td>6</td>\n",
       "      <td>3400000</td>\n",
       "      <td>1700000</td>\n",
       "      <td>1</td>\n",
       "    </tr>\n",
       "    <tr>\n",
       "      <td>6</td>\n",
       "      <td>5228</td>\n",
       "      <td>Delhi</td>\n",
       "      <td>Female</td>\n",
       "      <td>Mrs</td>\n",
       "      <td>sunita</td>\n",
       "      <td>YES</td>\n",
       "      <td>2</td>\n",
       "      <td>Driver</td>\n",
       "      <td>Car</td>\n",
       "      <td>4</td>\n",
       "      <td>...</td>\n",
       "      <td>82</td>\n",
       "      <td>152</td>\n",
       "      <td>246</td>\n",
       "      <td>75</td>\n",
       "      <td>42</td>\n",
       "      <td>5</td>\n",
       "      <td>3</td>\n",
       "      <td>3500000</td>\n",
       "      <td>1000000</td>\n",
       "      <td>2</td>\n",
       "    </tr>\n",
       "    <tr>\n",
       "      <td>7</td>\n",
       "      <td>5559</td>\n",
       "      <td>Delhi</td>\n",
       "      <td>Female</td>\n",
       "      <td>Mrs</td>\n",
       "      <td>gaytri</td>\n",
       "      <td>YES</td>\n",
       "      <td>2</td>\n",
       "      <td>Manufacturing</td>\n",
       "      <td>Walk</td>\n",
       "      <td>4</td>\n",
       "      <td>...</td>\n",
       "      <td>117</td>\n",
       "      <td>112</td>\n",
       "      <td>343</td>\n",
       "      <td>68</td>\n",
       "      <td>54</td>\n",
       "      <td>24</td>\n",
       "      <td>3</td>\n",
       "      <td>3500000</td>\n",
       "      <td>400000</td>\n",
       "      <td>1</td>\n",
       "    </tr>\n",
       "    <tr>\n",
       "      <td>8</td>\n",
       "      <td>5220</td>\n",
       "      <td>Delhi</td>\n",
       "      <td>Female</td>\n",
       "      <td>Mrs</td>\n",
       "      <td>ritu</td>\n",
       "      <td>YES</td>\n",
       "      <td>2</td>\n",
       "      <td>Researcher</td>\n",
       "      <td>Public</td>\n",
       "      <td>4</td>\n",
       "      <td>...</td>\n",
       "      <td>89</td>\n",
       "      <td>107</td>\n",
       "      <td>224</td>\n",
       "      <td>80</td>\n",
       "      <td>53</td>\n",
       "      <td>5</td>\n",
       "      <td>6</td>\n",
       "      <td>1800000</td>\n",
       "      <td>1600000</td>\n",
       "      <td>2</td>\n",
       "    </tr>\n",
       "    <tr>\n",
       "      <td>9</td>\n",
       "      <td>5476</td>\n",
       "      <td>Delhi</td>\n",
       "      <td>Female</td>\n",
       "      <td>Mrs</td>\n",
       "      <td>poonam</td>\n",
       "      <td>YES</td>\n",
       "      <td>2</td>\n",
       "      <td>Researcher</td>\n",
       "      <td>Public</td>\n",
       "      <td>4</td>\n",
       "      <td>...</td>\n",
       "      <td>57</td>\n",
       "      <td>146</td>\n",
       "      <td>303</td>\n",
       "      <td>81</td>\n",
       "      <td>48</td>\n",
       "      <td>31</td>\n",
       "      <td>7</td>\n",
       "      <td>500000</td>\n",
       "      <td>800000</td>\n",
       "      <td>1</td>\n",
       "    </tr>\n",
       "  </tbody>\n",
       "</table>\n",
       "<p>10 rows × 27 columns</p>\n",
       "</div>"
      ],
      "text/plain": [
       "   people_ID Region  Gender Designation                Name Married  Children  \\\n",
       "0       5942  Delhi  Female         Mrs  smt rekha prajapat     YES         2   \n",
       "1      18664  Delhi    Male          Mr              nirmal     YES         2   \n",
       "2       5603  Delhi  Female         Mrs               pinky     YES         2   \n",
       "3       5649  Delhi  Female         Mrs       pooja @aafrin     YES         2   \n",
       "4       5099  Delhi  Female         Mrs              anjali     YES         2   \n",
       "5      18749  Delhi    Male          Mr         diwan chand     YES         2   \n",
       "6       5228  Delhi  Female         Mrs              sunita     YES         2   \n",
       "7       5559  Delhi  Female         Mrs              gaytri     YES         2   \n",
       "8       5220  Delhi  Female         Mrs                ritu     YES         2   \n",
       "9       5476  Delhi  Female         Mrs              poonam     YES         2   \n",
       "\n",
       "      Occupation Mode_transport  cases/1M  ...  Platelets  HBB  d-dimer  \\\n",
       "0         Driver         Public         4  ...        153  196      240   \n",
       "1          Legal           Walk         4  ...         95  138      241   \n",
       "2          Sales            Car         4  ...         40  166      236   \n",
       "3          Sales            Car         4  ...         78   83      211   \n",
       "4       Business            Car         4  ...        109  207      312   \n",
       "5          Sales           Walk         4  ...         35  185      291   \n",
       "6         Driver            Car         4  ...         82  152      246   \n",
       "7  Manufacturing           Walk         4  ...        117  112      343   \n",
       "8     Researcher         Public         4  ...         89  107      224   \n",
       "9     Researcher         Public         4  ...         57  146      303   \n",
       "\n",
       "   Heart rate HDL cholesterol Charlson Index  Blood Glucose  Insurance  \\\n",
       "0          85              53             17              3    3900000   \n",
       "1          81              61              2              5    1800000   \n",
       "2          88              47             24              3    5000000   \n",
       "3          87              52             13              6    3100000   \n",
       "4          94              68             39              5    2300000   \n",
       "5          75              61             26              6    3400000   \n",
       "6          75              42              5              3    3500000   \n",
       "7          68              54             24              3    3500000   \n",
       "8          80              53              5              6    1800000   \n",
       "9          81              48             31              7     500000   \n",
       "\n",
       "    salary  FT/month  \n",
       "0  1300000         1  \n",
       "1  1300000         1  \n",
       "2  2000000         2  \n",
       "3   600000         2  \n",
       "4  1500000         1  \n",
       "5  1700000         1  \n",
       "6  1000000         2  \n",
       "7   400000         1  \n",
       "8  1600000         2  \n",
       "9   800000         1  \n",
       "\n",
       "[10 rows x 27 columns]"
      ]
     },
     "execution_count": 36,
     "metadata": {},
     "output_type": "execute_result"
    }
   ],
   "source": [
    "test.head(10)"
   ]
  },
  {
   "cell_type": "code",
   "execution_count": 37,
   "metadata": {},
   "outputs": [],
   "source": [
    "test.drop(columns=['people_ID','Region','Designation','Name'],inplace=True)"
   ]
  },
  {
   "cell_type": "code",
   "execution_count": 38,
   "metadata": {},
   "outputs": [],
   "source": [
    "test['Married'].replace(to_replace=['YES','NO'],value=[1,0],inplace=True)"
   ]
  },
  {
   "cell_type": "code",
   "execution_count": 39,
   "metadata": {},
   "outputs": [
    {
     "data": {
      "text/html": [
       "<div>\n",
       "<style scoped>\n",
       "    .dataframe tbody tr th:only-of-type {\n",
       "        vertical-align: middle;\n",
       "    }\n",
       "\n",
       "    .dataframe tbody tr th {\n",
       "        vertical-align: top;\n",
       "    }\n",
       "\n",
       "    .dataframe thead th {\n",
       "        text-align: right;\n",
       "    }\n",
       "</style>\n",
       "<table border=\"1\" class=\"dataframe\">\n",
       "  <thead>\n",
       "    <tr style=\"text-align: right;\">\n",
       "      <th></th>\n",
       "      <th>Gender</th>\n",
       "      <th>Married</th>\n",
       "      <th>Children</th>\n",
       "      <th>Occupation</th>\n",
       "      <th>Mode_transport</th>\n",
       "      <th>cases/1M</th>\n",
       "      <th>Deaths/1M</th>\n",
       "      <th>comorbidity</th>\n",
       "      <th>Age</th>\n",
       "      <th>Coma score</th>\n",
       "      <th>...</th>\n",
       "      <th>Platelets</th>\n",
       "      <th>HBB</th>\n",
       "      <th>d-dimer</th>\n",
       "      <th>Heart rate</th>\n",
       "      <th>HDL cholesterol</th>\n",
       "      <th>Charlson Index</th>\n",
       "      <th>Blood Glucose</th>\n",
       "      <th>Insurance</th>\n",
       "      <th>salary</th>\n",
       "      <th>FT/month</th>\n",
       "    </tr>\n",
       "  </thead>\n",
       "  <tbody>\n",
       "    <tr>\n",
       "      <td>0</td>\n",
       "      <td>Female</td>\n",
       "      <td>1</td>\n",
       "      <td>2</td>\n",
       "      <td>Driver</td>\n",
       "      <td>Public</td>\n",
       "      <td>4</td>\n",
       "      <td>1</td>\n",
       "      <td>Diabetes</td>\n",
       "      <td>52</td>\n",
       "      <td>3</td>\n",
       "      <td>...</td>\n",
       "      <td>153</td>\n",
       "      <td>196</td>\n",
       "      <td>240</td>\n",
       "      <td>85</td>\n",
       "      <td>53</td>\n",
       "      <td>17</td>\n",
       "      <td>3</td>\n",
       "      <td>3900000</td>\n",
       "      <td>1300000</td>\n",
       "      <td>1</td>\n",
       "    </tr>\n",
       "    <tr>\n",
       "      <td>1</td>\n",
       "      <td>Male</td>\n",
       "      <td>1</td>\n",
       "      <td>2</td>\n",
       "      <td>Legal</td>\n",
       "      <td>Walk</td>\n",
       "      <td>4</td>\n",
       "      <td>1</td>\n",
       "      <td>Diabetes</td>\n",
       "      <td>53</td>\n",
       "      <td>11</td>\n",
       "      <td>...</td>\n",
       "      <td>95</td>\n",
       "      <td>138</td>\n",
       "      <td>241</td>\n",
       "      <td>81</td>\n",
       "      <td>61</td>\n",
       "      <td>2</td>\n",
       "      <td>5</td>\n",
       "      <td>1800000</td>\n",
       "      <td>1300000</td>\n",
       "      <td>1</td>\n",
       "    </tr>\n",
       "    <tr>\n",
       "      <td>2</td>\n",
       "      <td>Female</td>\n",
       "      <td>1</td>\n",
       "      <td>2</td>\n",
       "      <td>Sales</td>\n",
       "      <td>Car</td>\n",
       "      <td>4</td>\n",
       "      <td>1</td>\n",
       "      <td>Diabetes</td>\n",
       "      <td>35</td>\n",
       "      <td>9</td>\n",
       "      <td>...</td>\n",
       "      <td>40</td>\n",
       "      <td>166</td>\n",
       "      <td>236</td>\n",
       "      <td>88</td>\n",
       "      <td>47</td>\n",
       "      <td>24</td>\n",
       "      <td>3</td>\n",
       "      <td>5000000</td>\n",
       "      <td>2000000</td>\n",
       "      <td>2</td>\n",
       "    </tr>\n",
       "    <tr>\n",
       "      <td>3</td>\n",
       "      <td>Female</td>\n",
       "      <td>1</td>\n",
       "      <td>2</td>\n",
       "      <td>Sales</td>\n",
       "      <td>Car</td>\n",
       "      <td>4</td>\n",
       "      <td>1</td>\n",
       "      <td>None</td>\n",
       "      <td>31</td>\n",
       "      <td>12</td>\n",
       "      <td>...</td>\n",
       "      <td>78</td>\n",
       "      <td>83</td>\n",
       "      <td>211</td>\n",
       "      <td>87</td>\n",
       "      <td>52</td>\n",
       "      <td>13</td>\n",
       "      <td>6</td>\n",
       "      <td>3100000</td>\n",
       "      <td>600000</td>\n",
       "      <td>2</td>\n",
       "    </tr>\n",
       "    <tr>\n",
       "      <td>4</td>\n",
       "      <td>Female</td>\n",
       "      <td>1</td>\n",
       "      <td>2</td>\n",
       "      <td>Business</td>\n",
       "      <td>Car</td>\n",
       "      <td>4</td>\n",
       "      <td>1</td>\n",
       "      <td>Diabetes</td>\n",
       "      <td>51</td>\n",
       "      <td>6</td>\n",
       "      <td>...</td>\n",
       "      <td>109</td>\n",
       "      <td>207</td>\n",
       "      <td>312</td>\n",
       "      <td>94</td>\n",
       "      <td>68</td>\n",
       "      <td>39</td>\n",
       "      <td>5</td>\n",
       "      <td>2300000</td>\n",
       "      <td>1500000</td>\n",
       "      <td>1</td>\n",
       "    </tr>\n",
       "    <tr>\n",
       "      <td>5</td>\n",
       "      <td>Male</td>\n",
       "      <td>1</td>\n",
       "      <td>2</td>\n",
       "      <td>Sales</td>\n",
       "      <td>Walk</td>\n",
       "      <td>4</td>\n",
       "      <td>1</td>\n",
       "      <td>Diabetes</td>\n",
       "      <td>34</td>\n",
       "      <td>14</td>\n",
       "      <td>...</td>\n",
       "      <td>35</td>\n",
       "      <td>185</td>\n",
       "      <td>291</td>\n",
       "      <td>75</td>\n",
       "      <td>61</td>\n",
       "      <td>26</td>\n",
       "      <td>6</td>\n",
       "      <td>3400000</td>\n",
       "      <td>1700000</td>\n",
       "      <td>1</td>\n",
       "    </tr>\n",
       "    <tr>\n",
       "      <td>6</td>\n",
       "      <td>Female</td>\n",
       "      <td>1</td>\n",
       "      <td>2</td>\n",
       "      <td>Driver</td>\n",
       "      <td>Car</td>\n",
       "      <td>4</td>\n",
       "      <td>1</td>\n",
       "      <td>None</td>\n",
       "      <td>61</td>\n",
       "      <td>7</td>\n",
       "      <td>...</td>\n",
       "      <td>82</td>\n",
       "      <td>152</td>\n",
       "      <td>246</td>\n",
       "      <td>75</td>\n",
       "      <td>42</td>\n",
       "      <td>5</td>\n",
       "      <td>3</td>\n",
       "      <td>3500000</td>\n",
       "      <td>1000000</td>\n",
       "      <td>2</td>\n",
       "    </tr>\n",
       "    <tr>\n",
       "      <td>7</td>\n",
       "      <td>Female</td>\n",
       "      <td>1</td>\n",
       "      <td>2</td>\n",
       "      <td>Manufacturing</td>\n",
       "      <td>Walk</td>\n",
       "      <td>4</td>\n",
       "      <td>1</td>\n",
       "      <td>None</td>\n",
       "      <td>55</td>\n",
       "      <td>7</td>\n",
       "      <td>...</td>\n",
       "      <td>117</td>\n",
       "      <td>112</td>\n",
       "      <td>343</td>\n",
       "      <td>68</td>\n",
       "      <td>54</td>\n",
       "      <td>24</td>\n",
       "      <td>3</td>\n",
       "      <td>3500000</td>\n",
       "      <td>400000</td>\n",
       "      <td>1</td>\n",
       "    </tr>\n",
       "    <tr>\n",
       "      <td>8</td>\n",
       "      <td>Female</td>\n",
       "      <td>1</td>\n",
       "      <td>2</td>\n",
       "      <td>Researcher</td>\n",
       "      <td>Public</td>\n",
       "      <td>4</td>\n",
       "      <td>1</td>\n",
       "      <td>Hypertension</td>\n",
       "      <td>28</td>\n",
       "      <td>9</td>\n",
       "      <td>...</td>\n",
       "      <td>89</td>\n",
       "      <td>107</td>\n",
       "      <td>224</td>\n",
       "      <td>80</td>\n",
       "      <td>53</td>\n",
       "      <td>5</td>\n",
       "      <td>6</td>\n",
       "      <td>1800000</td>\n",
       "      <td>1600000</td>\n",
       "      <td>2</td>\n",
       "    </tr>\n",
       "    <tr>\n",
       "      <td>9</td>\n",
       "      <td>Female</td>\n",
       "      <td>1</td>\n",
       "      <td>2</td>\n",
       "      <td>Researcher</td>\n",
       "      <td>Public</td>\n",
       "      <td>4</td>\n",
       "      <td>1</td>\n",
       "      <td>Hypertension</td>\n",
       "      <td>55</td>\n",
       "      <td>15</td>\n",
       "      <td>...</td>\n",
       "      <td>57</td>\n",
       "      <td>146</td>\n",
       "      <td>303</td>\n",
       "      <td>81</td>\n",
       "      <td>48</td>\n",
       "      <td>31</td>\n",
       "      <td>7</td>\n",
       "      <td>500000</td>\n",
       "      <td>800000</td>\n",
       "      <td>1</td>\n",
       "    </tr>\n",
       "  </tbody>\n",
       "</table>\n",
       "<p>10 rows × 23 columns</p>\n",
       "</div>"
      ],
      "text/plain": [
       "   Gender  Married  Children     Occupation Mode_transport  cases/1M  \\\n",
       "0  Female        1         2         Driver         Public         4   \n",
       "1    Male        1         2          Legal           Walk         4   \n",
       "2  Female        1         2          Sales            Car         4   \n",
       "3  Female        1         2          Sales            Car         4   \n",
       "4  Female        1         2       Business            Car         4   \n",
       "5    Male        1         2          Sales           Walk         4   \n",
       "6  Female        1         2         Driver            Car         4   \n",
       "7  Female        1         2  Manufacturing           Walk         4   \n",
       "8  Female        1         2     Researcher         Public         4   \n",
       "9  Female        1         2     Researcher         Public         4   \n",
       "\n",
       "   Deaths/1M   comorbidity  Age  Coma score  ... Platelets  HBB  d-dimer  \\\n",
       "0          1      Diabetes   52           3  ...       153  196      240   \n",
       "1          1      Diabetes   53          11  ...        95  138      241   \n",
       "2          1      Diabetes   35           9  ...        40  166      236   \n",
       "3          1          None   31          12  ...        78   83      211   \n",
       "4          1      Diabetes   51           6  ...       109  207      312   \n",
       "5          1      Diabetes   34          14  ...        35  185      291   \n",
       "6          1          None   61           7  ...        82  152      246   \n",
       "7          1          None   55           7  ...       117  112      343   \n",
       "8          1  Hypertension   28           9  ...        89  107      224   \n",
       "9          1  Hypertension   55          15  ...        57  146      303   \n",
       "\n",
       "   Heart rate  HDL cholesterol  Charlson Index  Blood Glucose  Insurance  \\\n",
       "0          85               53              17              3    3900000   \n",
       "1          81               61               2              5    1800000   \n",
       "2          88               47              24              3    5000000   \n",
       "3          87               52              13              6    3100000   \n",
       "4          94               68              39              5    2300000   \n",
       "5          75               61              26              6    3400000   \n",
       "6          75               42               5              3    3500000   \n",
       "7          68               54              24              3    3500000   \n",
       "8          80               53               5              6    1800000   \n",
       "9          81               48              31              7     500000   \n",
       "\n",
       "    salary  FT/month  \n",
       "0  1300000         1  \n",
       "1  1300000         1  \n",
       "2  2000000         2  \n",
       "3   600000         2  \n",
       "4  1500000         1  \n",
       "5  1700000         1  \n",
       "6  1000000         2  \n",
       "7   400000         1  \n",
       "8  1600000         2  \n",
       "9   800000         1  \n",
       "\n",
       "[10 rows x 23 columns]"
      ]
     },
     "execution_count": 39,
     "metadata": {},
     "output_type": "execute_result"
    }
   ],
   "source": [
    "test.head(10)"
   ]
  },
  {
   "cell_type": "code",
   "execution_count": 40,
   "metadata": {},
   "outputs": [],
   "source": [
    "test.dropna(inplace=True)"
   ]
  },
  {
   "cell_type": "code",
   "execution_count": 41,
   "metadata": {},
   "outputs": [
    {
     "data": {
      "text/plain": [
       "(14498, 23)"
      ]
     },
     "execution_count": 41,
     "metadata": {},
     "output_type": "execute_result"
    }
   ],
   "source": [
    "test.shape"
   ]
  },
  {
   "cell_type": "code",
   "execution_count": 42,
   "metadata": {},
   "outputs": [
    {
     "data": {
      "text/plain": [
       "['Married', 'Children', 'Age', 'Coma score', 'Platelets', 'salary']"
      ]
     },
     "execution_count": 42,
     "metadata": {},
     "output_type": "execute_result"
    }
   ],
   "source": [
    "reqd_param"
   ]
  },
  {
   "cell_type": "code",
   "execution_count": 43,
   "metadata": {},
   "outputs": [
    {
     "data": {
      "text/plain": [
       "(14498, 6)"
      ]
     },
     "execution_count": 43,
     "metadata": {},
     "output_type": "execute_result"
    }
   ],
   "source": [
    "X1_test = test[reqd_param]\n",
    "X1_test.shape"
   ]
  },
  {
   "cell_type": "code",
   "execution_count": 44,
   "metadata": {},
   "outputs": [],
   "source": [
    "y1_pred = reg.predict(X1_test)"
   ]
  },
  {
   "cell_type": "code",
   "execution_count": 45,
   "metadata": {},
   "outputs": [
    {
     "data": {
      "text/plain": [
       "array([51.63894912, 51.77515755, 50.5194971 , ..., 46.29255063,\n",
       "       46.08116227, 46.3596052 ])"
      ]
     },
     "execution_count": 45,
     "metadata": {},
     "output_type": "execute_result"
    }
   ],
   "source": [
    "y1_pred"
   ]
  },
  {
   "cell_type": "code",
   "execution_count": 46,
   "metadata": {},
   "outputs": [],
   "source": [
    "y1_pred = list(y1_pred)"
   ]
  },
  {
   "cell_type": "code",
   "execution_count": 47,
   "metadata": {},
   "outputs": [],
   "source": [
    "test['Infect_Prob'] = y1_pred"
   ]
  },
  {
   "cell_type": "code",
   "execution_count": 48,
   "metadata": {},
   "outputs": [],
   "source": [
    "#Writing the final solution in an Excel Format\n",
    "test.to_excel('Solution_Sheet.xlsx',sheet_name='Solution')"
   ]
  },
  {
   "cell_type": "markdown",
   "metadata": {},
   "source": [
    "__Thank You!!!__"
   ]
  }
 ],
 "metadata": {
  "kernelspec": {
   "display_name": "Python 3",
   "language": "python",
   "name": "python3"
  },
  "language_info": {
   "codemirror_mode": {
    "name": "ipython",
    "version": 3
   },
   "file_extension": ".py",
   "mimetype": "text/x-python",
   "name": "python",
   "nbconvert_exporter": "python",
   "pygments_lexer": "ipython3",
   "version": "3.7.4"
  }
 },
 "nbformat": 4,
 "nbformat_minor": 2
}
